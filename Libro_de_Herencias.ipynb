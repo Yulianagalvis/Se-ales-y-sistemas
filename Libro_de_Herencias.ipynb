{
  "nbformat": 4,
  "nbformat_minor": 0,
  "metadata": {
    "colab": {
      "provenance": [],
      "include_colab_link": true
    },
    "kernelspec": {
      "name": "python3",
      "display_name": "Python 3"
    },
    "language_info": {
      "name": "python"
    }
  },
  "cells": [
    {
      "cell_type": "markdown",
      "metadata": {
        "id": "view-in-github",
        "colab_type": "text"
      },
      "source": [
        "<a href=\"https://colab.research.google.com/github/Yulianagalvis/Se-ales-y-sistemas/blob/main/Libro_de_Herencias.ipynb\" target=\"_parent\"><img src=\"https://colab.research.google.com/assets/colab-badge.svg\" alt=\"Open In Colab\"/></a>"
      ]
    },
    {
      "cell_type": "markdown",
      "source": [
        "# Herencias en clases\n",
        "\n",
        "En programación, las herencias se refieren a la capacidad de una clase (llamada clase derivada o subclase) de heredar propiedades y métodos de otra clase (llamada clase base o superclase).\n",
        "\n",
        "La herencia es un concepto fundamental en la programación orientada a objetos (POO) y permite crear jerarquías de clases, donde las clases derivadas heredan características comunes de la clase base y también pueden agregar sus propias propiedades y métodos específicos.\n",
        "\n",
        "La herencia permite reutilizar el código existente, ya que las clases derivadas pueden aprovechar la funcionalidad implementada en la clase base sin tener que volver a escribirlo. Esto promueve la modularidad, el mantenimiento y la extensibilidad del código."
      ],
      "metadata": {
        "id": "vK6RvvN_QnR6"
      }
    },
    {
      "cell_type": "markdown",
      "source": [
        "### Ejemplo #1\n",
        "\n",
        "Supongamos que estás creando un programa para administrar empleados en una empresa. Tienes una clase base llamada \"Empleado\" y quieres crear una clase derivada llamada \"EmpleadoAsalariado\" que herede de la clase base."
      ],
      "metadata": {
        "id": "4r5En97IRAL5"
      }
    },
    {
      "cell_type": "code",
      "execution_count": null,
      "metadata": {
        "id": "w7MZ5olnQkUm"
      },
      "outputs": [],
      "source": [
        "class Empleado:\n",
        "    def __init__(self, nombre, salario):\n",
        "        self.nombre = nombre\n",
        "        self.salario = salario\n",
        "\n",
        "    def obtener_salario(self):\n",
        "        return self.salario\n",
        "\n",
        "class EmpleadoAsalariado(Empleado):\n",
        "    def __init__(self, nombre, salario, bono):\n",
        "        super().__init__(nombre, salario)  # Llama al constructor de la clase base\n",
        "        self.bono = bono\n",
        "\n",
        "    def obtener_salario(self):\n",
        "        return self.salario + self.bono\n",
        "\n",
        "# Creamos una instancia de la clase base\n",
        "empleado1 = Empleado(\"Juan\", 2000)\n",
        "print(empleado1.obtener_salario())  # Output: 2000\n",
        "\n",
        "# Creamos una instancia de la clase derivada\n",
        "empleado2 = EmpleadoAsalariado(\"Pedro\", 2500, 500)\n",
        "print(empleado2.obtener_salario())  # Output: 3000 (salario + bono)"
      ]
    },
    {
      "cell_type": "markdown",
      "source": [
        "En este ejemplo, la clase base \"Empleado\" tiene un constructor que recibe el nombre y el salario del empleado, y un método llamado \"obtener_salario()\" que devuelve el salario.\n",
        "\n",
        "La clase derivada \"EmpleadoAsalariado\" hereda de la clase base \"Empleado\" y agrega un nuevo atributo llamado \"bono\". Además, se anula el método \"obtener_salario()\" de la clase base para incluir el bono en el cálculo.\n",
        "\n",
        "Luego, creamos una instancia de la clase base \"Empleado\" y llamamos al método \"obtener_salario()\", devolviendo el salario básico.\n",
        "\n",
        "Después, creamos una instancia de la clase derivada \"EmpleadoAsalariado\" y llamamos al método \"obtener_salario()\", que devuelve el salario básico más el bono.\n",
        "\n",
        "Este ejemplo simplificado muestra cómo la clase derivada hereda los atributos y métodos de la clase base y puede agregar su propia funcionalidad."
      ],
      "metadata": {
        "id": "8pCtoWwfUQrG"
      }
    },
    {
      "cell_type": "markdown",
      "source": [
        "###Ejemplo #2\n",
        "\n",
        "Clases heredadas de automoviles"
      ],
      "metadata": {
        "id": "6RJac47SURZq"
      }
    },
    {
      "cell_type": "code",
      "source": [
        "class Vehiculo:\n",
        "    def __init__(self, marca, modelo, color):\n",
        "        self.marca = marca\n",
        "        self.modelo = modelo\n",
        "        self.color = color\n",
        "\n",
        "    def acelerar(self):\n",
        "        print(\"El vehículo está acelerando.\")\n",
        "\n",
        "    def frenar(self):\n",
        "        print(\"El vehículo está frenando.\")\n",
        "\n",
        "class Carro(Vehiculo):\n",
        "    def __init__(self, marca, modelo, color, num_puertas):\n",
        "        super().__init__(marca, modelo, color)\n",
        "        self.num_puertas = num_puertas\n",
        "\n",
        "    def abrir_puertas(self):\n",
        "        print(\"Las puertas del carro están abiertas.\")\n",
        "\n",
        "class Autobus(Vehiculo):\n",
        "    def __init__(self, marca, modelo, color, capacidad_pasajeros):\n",
        "        super().__init__(marca, modelo, color)\n",
        "        self.capacidad_pasajeros = capacidad_pasajeros\n",
        "\n",
        "    def subir_pasajeros(self):\n",
        "        print(\"Los pasajeros están subiendo al autobús.\")\n",
        "\n",
        "class Motocicleta(Vehiculo):\n",
        "    def __init__(self, marca, modelo, color, cilindrada):\n",
        "        super().__init__(marca, modelo, color)\n",
        "        self.cilindrada = cilindrada\n",
        "\n",
        "    def encender(self):\n",
        "        print(\"La motocicleta está encendida.\")\n",
        "\n",
        "class Hibrido(Carro):\n",
        "    def __init__(self, marca, modelo, color, num_puertas,modo_electrico):\n",
        "        super().__init__(marca, modelo, color, num_puertas)\n",
        "        self.modo_electrico = False\n",
        "\n",
        "\n",
        "    def activar_modo_electrico(self):\n",
        "        self.modo_electrico = True\n",
        "        print(\"El vehículo híbrido está en modo eléctrico.\")\n",
        "\n",
        "class Camion(Vehiculo):\n",
        "    def __init__(self, marca, modelo, color, capacidad_carga):\n",
        "        super().__init__(marca, modelo, color)\n",
        "        self.capacidad_carga = capacidad_carga\n",
        "\n",
        "    def cargar_mercancia(self):\n",
        "        print(\"Se está cargando la mercancía en el camión.\")"
      ],
      "metadata": {
        "id": "xYt75MD3Yy46"
      },
      "execution_count": null,
      "outputs": []
    },
    {
      "cell_type": "markdown",
      "source": [
        "En este ejemplo, tenemos una clase base llamada \"Vehiculo\" que contiene atributos y métodos generales que son comunes a todos los vehículos. Luego, tenemos las clases derivadas \"Carro\", \"Autobus\", \"Motocicleta\", \"Hibrido\" y \"Camion\" que heredan de la clase base y añaden atributos y métodos específicos.\n",
        "\n",
        "Cada clase derivada tiene su propio constructor que llama al constructor de la clase base utilizando la función super(). Además, cada clase derivada puede tener sus propios métodos adicionales según las características particulares del tipo de vehículo.\n",
        "\n",
        "Con este ejemplo, puedes crear instancias de los diferentes tipos de vehículos y acceder a sus métodos y atributos heredados. Por ejemplo:"
      ],
      "metadata": {
        "id": "-Gzan4-0duTq"
      }
    },
    {
      "cell_type": "code",
      "source": [
        "carro = Carro(\"Toyota\", \"Corolla\", \"Rojo\", 4)\n",
        "carro.acelerar()\n",
        "carro.abrir_puertas()\n",
        "\n",
        "autobus = Autobus(\"Mercedes\", \"Citaro\", \"Blanco\", 50)\n",
        "autobus.frenar()\n",
        "autobus.subir_pasajeros()\n",
        "\n",
        "motocicleta = Motocicleta(\"Honda\", \"CBR\", \"Negro\", 500)\n",
        "motocicleta.encender()\n",
        "motocicleta.frenar()\n",
        "\n",
        "hibrido = Hibrido(\"Toyota\", \"Prius\", \"Azul\", 4)\n"
      ],
      "metadata": {
        "colab": {
          "base_uri": "https://localhost:8080/"
        },
        "id": "0MxNgAgyd3b7",
        "outputId": "6fe00ce4-aa20-4524-8ebb-1536cac79fcd"
      },
      "execution_count": null,
      "outputs": [
        {
          "output_type": "stream",
          "name": "stdout",
          "text": [
            "El vehículo está acelerando.\n",
            "Las puertas del carro están abiertas.\n",
            "El vehículo está frenando.\n",
            "Los pasajeros están subiendo al autobús.\n",
            "La motocicleta está encendida.\n",
            "El vehículo está frenando.\n"
          ]
        }
      ]
    },
    {
      "cell_type": "markdown",
      "source": [
        "## Ejercicio_1.\n",
        "\n",
        "Crea un sistema de manejo de figuras geométricas utilizando clases y herencia. Debes tener una clase base llamada \"FiguraGeometrica\" con un método abstracto llamado \"calcular_area()\". Luego, crea clases derivadas para diferentes tipos de figuras geométricas, como \"Círculo\", \"Rectángulo\" y \"Triángulo\". Cada clase derivada debe implementar el método \"calcular_area()\" de acuerdo con la fórmula correspondiente para el cálculo del área de esa figura."
      ],
      "metadata": {
        "id": "ZjKccYRmvtN7"
      }
    },
    {
      "cell_type": "code",
      "source": [
        "#Ejercicio 1\n",
        "\n",
        "# Importamos el módulo abc\n",
        "import abc\n",
        "\n",
        "class FiguraGeometrica(metaclass=abc.ABCMeta): # Definimos la clase FiguraGeometrica\n",
        "    @abc.abstractmethod # Decoramos el método \"calcular_area\" como abstracto\n",
        "    def calcular_area(self):\n",
        "        pass\n",
        "\n",
        "    @abc.abstractmethod # Decoramos el método \"__str__\" como abstracto\n",
        "    def __str__(self):\n",
        "        pass\n",
        "\n",
        "#CIRCULO\n",
        "# Definimos la clase \"Circulo\" que hereda de \"FiguraGeometrica\"\n",
        "class Circulo(FiguraGeometrica):\n",
        "    def __init__(self, radio): # Definimos el constructor como \"radio\"\n",
        "        self.radio = radio # Asignamos el valor de \"radio\" a la propiedad \"radio\"\n",
        "\n",
        "# Definimos la funcion para calcular el área de un círculo\n",
        "    def calcular_area(self):\n",
        "        return 3.14 * (self.radio ** 2)\n",
        "\n",
        "# Implementamos el método \"__str__\" para poder imprimir\n",
        "    def __str__(self):\n",
        "        return f\"Circulo de radio {self.radio}\" # Devolvemos una cadena que representa el círculo\n",
        "\n",
        "#RECTANGULO\n",
        "# Definimos la clase \"Rectangulo\" que hereda de \"FiguraGeometrica\"\n",
        "class Rectangulo(FiguraGeometrica):\n",
        "    def __init__(self, longitud, ancho): # Definimos los parámetros \"longitud\" y \"ancho\"\n",
        "        self.longitud = longitud # Asignamos el valor de \"longitud\"\n",
        "        self.ancho = ancho # Asignamos el valor de \"ancho\"\n",
        "\n",
        "# Definimos para el cálculo del área de un rectángulo\n",
        "    def calcular_area(self):\n",
        "        return self.longitud * self.ancho # Usamos la fórmula para calcular el área de un rectángulo\n",
        "\n",
        "# Implementamos el método \"__str__\" para poder imprimir\n",
        "    def __str__(self):\n",
        "        return f\"Rectangulo de longitud {self.longitud} y ancho {self.ancho}\" # Devolvemos una cadena que representa el rectángulo\n",
        "\n",
        "#TRIANGULO\n",
        "# Definimos la clase \"Triangulo\" que hereda de \"FiguraGeometrica\"\n",
        "class Triangulo(FiguraGeometrica):\n",
        "    def __init__(self, base, altura): # Definimos los parámetros \"base\" y \"altura\"\n",
        "        self.base = base # Asignamos el valor de \"base\"\n",
        "        self.altura = altura # Asignamos el valor de \"altura\"\n",
        "\n",
        "# Implementamos para el cálculo del área de un triángulo\n",
        "    def calcular_area(self):\n",
        "        return 0.5 * self.base * self.altura # Usamos la fórmula para calcular el área de un triángulo\n",
        "\n",
        "# Implementamos el método \"__str__\" para poder imprimir fácilmente una instancia de \"Triangulo\"\n",
        "    def __str__(self):\n",
        "        return f\"Triangulo de base {self.base} y altura {self.altura}\" # Devolvemos una cadena que representa el triángulo\n",
        "\n",
        "# Definimos la función \"manejar_figuras_geometricas\" que toma una lista de figuras\n",
        "def manejar_figuras_geometricas(figuras):\n",
        "    # Inicializamos una variable \"areas_totales\" a 0\n",
        "    areas_totales = 0\n",
        "    # Iteramos sobre cada figura en la lista de figuras\n",
        "    for figura in figuras:\n",
        "        print(figura) # Imprimimos la figura actual\n",
        "        area_actual = figura.calcular_area() # Llamamos al método \"calcular_area\" de la figura actual para obtener el área\n",
        "        print(f\"El área es {area_actual}\") # Imprimimos el área actual\n",
        "        areas_totales += area_actual # Agregamos el área actual a la variable \"areas_totales\"\n",
        "    print(f\"El área total de todas las figuras es {areas_totales}\") # Imprimimos el área total de todas las figuras\n",
        "\n",
        "#Ejemplo\n",
        "# Creamos una instancia de la clase \"Circulo\" con un radio de 2\n",
        "circulo1 = Circulo(2)\n",
        "# Creamos una instancia de la clase \"Rectangulo\" con una longitud de 5 y un ancho de 3\n",
        "rectangulo1 = Rectangulo(5, 3)\n",
        "# Creamos una instancia de la clase \"Triangulo\" con una base de 3 y una altura de 4\n",
        "triangulo1 = Triangulo(3, 4)\n",
        "\n",
        "# Creamos una lista de figuras con el círculo, el rectángulo y el triángulo\n",
        "figuras = [circulo1, rectangulo1, triangulo1]\n",
        "# Llamamos a la función \"manejar_figuras_geometricas\" con la lista de figuras como argumento\n",
        "manejar_figuras_geometricas(figuras)"
      ],
      "metadata": {
        "id": "uYJH8aBytsaa",
        "colab": {
          "base_uri": "https://localhost:8080/"
        },
        "outputId": "6636836d-505e-41d0-fa55-19bf89632d1d"
      },
      "execution_count": 4,
      "outputs": [
        {
          "output_type": "stream",
          "name": "stdout",
          "text": [
            "Circulo de radio 2\n",
            "El área es 12.56\n",
            "Rectangulo de longitud 5 y ancho 3\n",
            "El área es 15\n",
            "Triangulo de base 3 y altura 4\n",
            "El área es 6.0\n",
            "El área total de todas las figuras es 33.56\n"
          ]
        }
      ]
    },
    {
      "cell_type": "markdown",
      "source": [
        "## Ejercicio_2\n",
        "\n",
        "Crea un sistema de reserva de vuelos utilizando clases y herencia. Debes tener una clase base llamada \"Vuelo\" con los siguientes atributos: número de vuelo, origen, destino, y capacidad máxima de pasajeros. Luego, crea una clase derivada llamada \"VueloEconomico\" que herede de la clase base y agregue un atributo adicional llamado \"tarifa\". Además, agrega métodos en ambas clases para mostrar la información del vuelo y realizar una reserva de asientos.\n",
        "\n",
        "La clase base \"Vuelo\" debe tener un método para verificar si hay asientos disponibles y otro para realizar la reserva de un asiento. La clase derivada \"VueloEconomico\" puede tener métodos adicionales para calcular el precio total de la reserva de acuerdo con la tarifa y la cantidad de asientos reservados."
      ],
      "metadata": {
        "id": "VVeP1H2KwHaa"
      }
    },
    {
      "cell_type": "code",
      "source": [
        "#Ejercicio 2\n",
        "\n",
        "# Definición de la clase Vuelo\n",
        "class Vuelo:\n",
        "    def __init__(self, numero, origen, destino, capacidad_maxima):\n",
        "        # Inicializa los atributos\n",
        "        self.numero = numero\n",
        "        self.origen = origen\n",
        "        self.destino = destino\n",
        "        self.capacidad_maxima = capacidad_maxima\n",
        "        self.asientos_disponibles = capacidad_maxima\n",
        "\n",
        "    def verificar_asientos_disponibles(self, cantidad):\n",
        "        # Verifica si hay suficientes asientos disponibles en el vuelo\n",
        "        if cantidad <= self.asientos_disponibles:\n",
        "            return True\n",
        "        else:\n",
        "            return False\n",
        "\n",
        "    def realizar_reserva(self, cantidad):\n",
        "        # Realiza una reserva de asientos en el vuelo y verifica si hay suficientes asientos disponibles\n",
        "        if self.verificar_asientos_disponibles(cantidad):\n",
        "            self.asientos_disponibles -= cantidad\n",
        "            return True\n",
        "        else:\n",
        "            return False\n",
        "\n",
        "    def __str__(self):\n",
        "        # Devuelve una representación en forma de cadena del vuelo\n",
        "        return f\"Vuelo {self.numero}: {self.origen} a {self.destino} con una capacidad máxima de {self.capacidad_maxima} asientos.\"\n",
        "\n",
        "# Definición de la clase VueloEconomico, que hereda de la clase Vuelo\n",
        "class VueloEconomico(Vuelo):\n",
        "    def __init__(self, numero, origen, destino, capacidad_maxima, tarifa):\n",
        "        # Inicializa los atributos de la clase VueloEconomico\n",
        "        super().__init__(numero, origen, destino, capacidad_maxima)\n",
        "        self.tarifa = tarifa\n",
        "\n",
        "    def calcular_precio_total(self, cantidad):\n",
        "        # Calcula el precio total de una reserva de asientos en un vuelo económico\n",
        "        return cantidad * self.tarifa\n",
        "\n",
        "    def realizar_reserva(self, cantidad):\n",
        "        # Realiza una reserva de asientos en un vuelo económico y calcula el precio total\n",
        "        if super().realizar_reserva(cantidad):\n",
        "            precio_total = self.calcular_precio_total(cantidad)\n",
        "            return precio_total\n",
        "        else:\n",
        "            return \"Lo sentimos, no hay suficientes asientos disponibles en este vuelo económico.\"\n",
        "\n",
        "    def __str__(self):\n",
        "        # Devuelve una representación en forma de cadena del vuelo económico\n",
        "        return f\"Vuelo {self.numero}: {self.origen} a {self.destino} con una capacidad máxima de {self.capacidad_maxima} asientos y una tarifa de ${self.tarifa} por asiento.\"\n",
        "\n",
        "# Ejemplo\n",
        "vuelo1 = Vuelo(123, \"New York\", \"Los Angeles\", 150)\n",
        "# Imprime el objeto vuelo1\n",
        "print(vuelo1)\n",
        "# Verifica si hay suficientes asientos disponibles en el vuelo1\n",
        "print(vuelo1.verificar_asientos_disponibles(100))\n",
        "# Realiza una reserva de 50 asientos en el vuelo1\n",
        "print(vuelo1.realizar_reserva(50))\n",
        "# Imprime el objeto vuelo1 después de la reserva\n",
        "print(vuelo1)\n",
        "\n",
        "# Crea un objeto de la clase VueloEconomico\n",
        "vuelo2 = VueloEconomico(456, \"Miami\", \"Chicago\", 200, 100)\n",
        "# Imprime el objeto vuelo2\n",
        "print(vuelo2)\n",
        "# Verifica si hay suficientes asientos disponibles en el vuelo2\n",
        "print(vuelo2.verificar_asientos_disponibles(150))\n",
        "# Realiza una reserva de 150 asientos"
      ],
      "metadata": {
        "colab": {
          "base_uri": "https://localhost:8080/"
        },
        "id": "0nPM6bVz3jS4",
        "outputId": "a8320542-8649-492e-ffae-5f35ccf7f2ca"
      },
      "execution_count": 5,
      "outputs": [
        {
          "output_type": "stream",
          "name": "stdout",
          "text": [
            "Vuelo 123: New York a Los Angeles con una capacidad máxima de 150 asientos.\n",
            "True\n",
            "True\n",
            "Vuelo 123: New York a Los Angeles con una capacidad máxima de 150 asientos.\n",
            "Vuelo 456: Miami a Chicago con una capacidad máxima de 200 asientos y una tarifa de $100 por asiento.\n",
            "True\n"
          ]
        }
      ]
    }
  ]
}